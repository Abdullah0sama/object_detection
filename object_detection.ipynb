{
 "cells": [
  {
   "cell_type": "code",
   "execution_count": 1,
   "id": "30590b82",
   "metadata": {},
   "outputs": [],
   "source": [
    "import numpy as np\n",
    "import matplotlib.pyplot as plt\n",
    "import cv2\n",
    "import glob\n",
    "import os\n",
    "import time"
   ]
  },
  {
   "cell_type": "markdown",
   "id": "4aa39055",
   "metadata": {},
   "source": [
    "### Loading YOLO weights and cfg"
   ]
  },
  {
   "cell_type": "code",
   "execution_count": 2,
   "id": "0449fa54",
   "metadata": {},
   "outputs": [],
   "source": [
    "weights_path = os.path.join('yolo', 'yolov3.weights')\n",
    "cfg_path = os.path.join('yolo', 'yolov3.cfg')\n"
   ]
  },
  {
   "cell_type": "markdown",
   "id": "b547b907",
   "metadata": {},
   "source": [
    "### Load neural net in cv2"
   ]
  },
  {
   "cell_type": "code",
   "execution_count": 3,
   "id": "37cbda1b",
   "metadata": {},
   "outputs": [],
   "source": [
    "net = cv2.dnn.readNetFromDarknet(cfg_path, weights_path)"
   ]
  },
  {
   "cell_type": "markdown",
   "id": "9749e824",
   "metadata": {},
   "source": [
    "### Get layers name"
   ]
  },
  {
   "cell_type": "code",
   "execution_count": 4,
   "id": "31e56416",
   "metadata": {},
   "outputs": [],
   "source": [
    "names = net.getLayerNames()"
   ]
  },
  {
   "cell_type": "code",
   "execution_count": 5,
   "id": "4227ded5",
   "metadata": {},
   "outputs": [
    {
     "data": {
      "text/plain": [
       "('conv_0',\n",
       " 'bn_0',\n",
       " 'leaky_1',\n",
       " 'conv_1',\n",
       " 'bn_1',\n",
       " 'leaky_2',\n",
       " 'conv_2',\n",
       " 'bn_2',\n",
       " 'leaky_3',\n",
       " 'conv_3',\n",
       " 'bn_3',\n",
       " 'leaky_4',\n",
       " 'shortcut_4',\n",
       " 'conv_5',\n",
       " 'bn_5',\n",
       " 'leaky_6',\n",
       " 'conv_6',\n",
       " 'bn_6',\n",
       " 'leaky_7',\n",
       " 'conv_7',\n",
       " 'bn_7',\n",
       " 'leaky_8',\n",
       " 'shortcut_8',\n",
       " 'conv_9',\n",
       " 'bn_9',\n",
       " 'leaky_10',\n",
       " 'conv_10',\n",
       " 'bn_10',\n",
       " 'leaky_11',\n",
       " 'shortcut_11',\n",
       " 'conv_12',\n",
       " 'bn_12',\n",
       " 'leaky_13',\n",
       " 'conv_13',\n",
       " 'bn_13',\n",
       " 'leaky_14',\n",
       " 'conv_14',\n",
       " 'bn_14',\n",
       " 'leaky_15',\n",
       " 'shortcut_15',\n",
       " 'conv_16',\n",
       " 'bn_16',\n",
       " 'leaky_17',\n",
       " 'conv_17',\n",
       " 'bn_17',\n",
       " 'leaky_18',\n",
       " 'shortcut_18',\n",
       " 'conv_19',\n",
       " 'bn_19',\n",
       " 'leaky_20',\n",
       " 'conv_20',\n",
       " 'bn_20',\n",
       " 'leaky_21',\n",
       " 'shortcut_21',\n",
       " 'conv_22',\n",
       " 'bn_22',\n",
       " 'leaky_23',\n",
       " 'conv_23',\n",
       " 'bn_23',\n",
       " 'leaky_24',\n",
       " 'shortcut_24',\n",
       " 'conv_25',\n",
       " 'bn_25',\n",
       " 'leaky_26',\n",
       " 'conv_26',\n",
       " 'bn_26',\n",
       " 'leaky_27',\n",
       " 'shortcut_27',\n",
       " 'conv_28',\n",
       " 'bn_28',\n",
       " 'leaky_29',\n",
       " 'conv_29',\n",
       " 'bn_29',\n",
       " 'leaky_30',\n",
       " 'shortcut_30',\n",
       " 'conv_31',\n",
       " 'bn_31',\n",
       " 'leaky_32',\n",
       " 'conv_32',\n",
       " 'bn_32',\n",
       " 'leaky_33',\n",
       " 'shortcut_33',\n",
       " 'conv_34',\n",
       " 'bn_34',\n",
       " 'leaky_35',\n",
       " 'conv_35',\n",
       " 'bn_35',\n",
       " 'leaky_36',\n",
       " 'shortcut_36',\n",
       " 'conv_37',\n",
       " 'bn_37',\n",
       " 'leaky_38',\n",
       " 'conv_38',\n",
       " 'bn_38',\n",
       " 'leaky_39',\n",
       " 'conv_39',\n",
       " 'bn_39',\n",
       " 'leaky_40',\n",
       " 'shortcut_40',\n",
       " 'conv_41',\n",
       " 'bn_41',\n",
       " 'leaky_42',\n",
       " 'conv_42',\n",
       " 'bn_42',\n",
       " 'leaky_43',\n",
       " 'shortcut_43',\n",
       " 'conv_44',\n",
       " 'bn_44',\n",
       " 'leaky_45',\n",
       " 'conv_45',\n",
       " 'bn_45',\n",
       " 'leaky_46',\n",
       " 'shortcut_46',\n",
       " 'conv_47',\n",
       " 'bn_47',\n",
       " 'leaky_48',\n",
       " 'conv_48',\n",
       " 'bn_48',\n",
       " 'leaky_49',\n",
       " 'shortcut_49',\n",
       " 'conv_50',\n",
       " 'bn_50',\n",
       " 'leaky_51',\n",
       " 'conv_51',\n",
       " 'bn_51',\n",
       " 'leaky_52',\n",
       " 'shortcut_52',\n",
       " 'conv_53',\n",
       " 'bn_53',\n",
       " 'leaky_54',\n",
       " 'conv_54',\n",
       " 'bn_54',\n",
       " 'leaky_55',\n",
       " 'shortcut_55',\n",
       " 'conv_56',\n",
       " 'bn_56',\n",
       " 'leaky_57',\n",
       " 'conv_57',\n",
       " 'bn_57',\n",
       " 'leaky_58',\n",
       " 'shortcut_58',\n",
       " 'conv_59',\n",
       " 'bn_59',\n",
       " 'leaky_60',\n",
       " 'conv_60',\n",
       " 'bn_60',\n",
       " 'leaky_61',\n",
       " 'shortcut_61',\n",
       " 'conv_62',\n",
       " 'bn_62',\n",
       " 'leaky_63',\n",
       " 'conv_63',\n",
       " 'bn_63',\n",
       " 'leaky_64',\n",
       " 'conv_64',\n",
       " 'bn_64',\n",
       " 'leaky_65',\n",
       " 'shortcut_65',\n",
       " 'conv_66',\n",
       " 'bn_66',\n",
       " 'leaky_67',\n",
       " 'conv_67',\n",
       " 'bn_67',\n",
       " 'leaky_68',\n",
       " 'shortcut_68',\n",
       " 'conv_69',\n",
       " 'bn_69',\n",
       " 'leaky_70',\n",
       " 'conv_70',\n",
       " 'bn_70',\n",
       " 'leaky_71',\n",
       " 'shortcut_71',\n",
       " 'conv_72',\n",
       " 'bn_72',\n",
       " 'leaky_73',\n",
       " 'conv_73',\n",
       " 'bn_73',\n",
       " 'leaky_74',\n",
       " 'shortcut_74',\n",
       " 'conv_75',\n",
       " 'bn_75',\n",
       " 'leaky_76',\n",
       " 'conv_76',\n",
       " 'bn_76',\n",
       " 'leaky_77',\n",
       " 'conv_77',\n",
       " 'bn_77',\n",
       " 'leaky_78',\n",
       " 'conv_78',\n",
       " 'bn_78',\n",
       " 'leaky_79',\n",
       " 'conv_79',\n",
       " 'bn_79',\n",
       " 'leaky_80',\n",
       " 'conv_80',\n",
       " 'bn_80',\n",
       " 'leaky_81',\n",
       " 'conv_81',\n",
       " 'permute_82',\n",
       " 'yolo_82',\n",
       " 'identity_83',\n",
       " 'conv_84',\n",
       " 'bn_84',\n",
       " 'leaky_85',\n",
       " 'upsample_85',\n",
       " 'concat_86',\n",
       " 'conv_87',\n",
       " 'bn_87',\n",
       " 'leaky_88',\n",
       " 'conv_88',\n",
       " 'bn_88',\n",
       " 'leaky_89',\n",
       " 'conv_89',\n",
       " 'bn_89',\n",
       " 'leaky_90',\n",
       " 'conv_90',\n",
       " 'bn_90',\n",
       " 'leaky_91',\n",
       " 'conv_91',\n",
       " 'bn_91',\n",
       " 'leaky_92',\n",
       " 'conv_92',\n",
       " 'bn_92',\n",
       " 'leaky_93',\n",
       " 'conv_93',\n",
       " 'permute_94',\n",
       " 'yolo_94',\n",
       " 'identity_95',\n",
       " 'conv_96',\n",
       " 'bn_96',\n",
       " 'leaky_97',\n",
       " 'upsample_97',\n",
       " 'concat_98',\n",
       " 'conv_99',\n",
       " 'bn_99',\n",
       " 'leaky_100',\n",
       " 'conv_100',\n",
       " 'bn_100',\n",
       " 'leaky_101',\n",
       " 'conv_101',\n",
       " 'bn_101',\n",
       " 'leaky_102',\n",
       " 'conv_102',\n",
       " 'bn_102',\n",
       " 'leaky_103',\n",
       " 'conv_103',\n",
       " 'bn_103',\n",
       " 'leaky_104',\n",
       " 'conv_104',\n",
       " 'bn_104',\n",
       " 'leaky_105',\n",
       " 'conv_105',\n",
       " 'permute_106',\n",
       " 'yolo_106')"
      ]
     },
     "execution_count": 5,
     "metadata": {},
     "output_type": "execute_result"
    }
   ],
   "source": [
    "names"
   ]
  },
  {
   "cell_type": "markdown",
   "id": "fb8ee1ec",
   "metadata": {},
   "source": [
    "### Read labels"
   ]
  },
  {
   "cell_type": "code",
   "execution_count": 6,
   "id": "8d85cc1a",
   "metadata": {},
   "outputs": [],
   "source": [
    "label_path = os.path.join('yolo', 'coco.names')\n",
    "labels = open(label_path).read().strip().split('\\n')"
   ]
  },
  {
   "cell_type": "code",
   "execution_count": 7,
   "id": "61b9fece",
   "metadata": {},
   "outputs": [
    {
     "data": {
      "text/plain": [
       "['person',\n",
       " 'bicycle',\n",
       " 'car',\n",
       " 'motorbike',\n",
       " 'aeroplane',\n",
       " 'bus',\n",
       " 'train',\n",
       " 'truck',\n",
       " 'boat',\n",
       " 'traffic light',\n",
       " 'fire hydrant',\n",
       " 'stop sign',\n",
       " 'parking meter',\n",
       " 'bench',\n",
       " 'bird',\n",
       " 'cat',\n",
       " 'dog',\n",
       " 'horse',\n",
       " 'sheep',\n",
       " 'cow',\n",
       " 'elephant',\n",
       " 'bear',\n",
       " 'zebra',\n",
       " 'giraffe',\n",
       " 'backpack',\n",
       " 'umbrella',\n",
       " 'handbag',\n",
       " 'tie',\n",
       " 'suitcase',\n",
       " 'frisbee',\n",
       " 'skis',\n",
       " 'snowboard',\n",
       " 'sports ball',\n",
       " 'kite',\n",
       " 'baseball bat',\n",
       " 'baseball glove',\n",
       " 'skateboard',\n",
       " 'surfboard',\n",
       " 'tennis racket',\n",
       " 'bottle',\n",
       " 'wine glass',\n",
       " 'cup',\n",
       " 'fork',\n",
       " 'knife',\n",
       " 'spoon',\n",
       " 'bowl',\n",
       " 'banana',\n",
       " 'apple',\n",
       " 'sandwich',\n",
       " 'orange',\n",
       " 'broccoli',\n",
       " 'carrot',\n",
       " 'hot dog',\n",
       " 'pizza',\n",
       " 'donut',\n",
       " 'cake',\n",
       " 'chair',\n",
       " 'sofa',\n",
       " 'pottedplant',\n",
       " 'bed',\n",
       " 'diningtable',\n",
       " 'toilet',\n",
       " 'tvmonitor',\n",
       " 'laptop',\n",
       " 'mouse',\n",
       " 'remote',\n",
       " 'keyboard',\n",
       " 'cell phone',\n",
       " 'microwave',\n",
       " 'oven',\n",
       " 'toaster',\n",
       " 'sink',\n",
       " 'refrigerator',\n",
       " 'book',\n",
       " 'clock',\n",
       " 'vase',\n",
       " 'scissors',\n",
       " 'teddy bear',\n",
       " 'hair drier',\n",
       " 'toothbrush']"
      ]
     },
     "execution_count": 7,
     "metadata": {},
     "output_type": "execute_result"
    }
   ],
   "source": [
    "labels"
   ]
  },
  {
   "cell_type": "code",
   "execution_count": 8,
   "id": "eaf52ea7",
   "metadata": {},
   "outputs": [],
   "source": [
    "# layer_names = [names[i - 1] for i in net.getUnconnectedOutLayers()]\n",
    "layer_names = net.getUnconnectedOutLayersNames()"
   ]
  },
  {
   "cell_type": "code",
   "execution_count": 9,
   "id": "5fdb6b30",
   "metadata": {},
   "outputs": [
    {
     "data": {
      "text/plain": [
       "('yolo_82', 'yolo_94', 'yolo_106')"
      ]
     },
     "execution_count": 9,
     "metadata": {},
     "output_type": "execute_result"
    }
   ],
   "source": [
    "layer_names"
   ]
  },
  {
   "cell_type": "markdown",
   "id": "c9efcdba",
   "metadata": {},
   "source": [
    "### Run the interference on test image\n"
   ]
  },
  {
   "cell_type": "code",
   "execution_count": 59,
   "id": "8e0409af",
   "metadata": {},
   "outputs": [],
   "source": [
    "def runInterference(img):\n",
    "    (H, W) = img.shape[:2]\n",
    "    blob = cv2.dnn.blobFromImage(img, 1/255.0, (416, 416), crop=False, swapRB=False)\n",
    "    net.setInput(blob)\n",
    "\n",
    "    start_t = time.time()\n",
    "    layers_output = net.forward(layer_names)\n",
    "#     print(\"Forward path throught yolov3 took: \", time.time() - start_t)\n",
    "    boxes = []\n",
    "    confidences = []\n",
    "    classIds = []\n",
    "    \n",
    "    for output in layers_output:\n",
    "        for detection in output:\n",
    "            scores = detection[5:]\n",
    "            classId = np.argmax(scores)\n",
    "            confidence = scores[classId]\n",
    "\n",
    "            if confidence > 0.80:\n",
    "                box = detection[:4] * np.array([W, H, W, H])\n",
    "                bx, by, bw, bh = box.astype('int')\n",
    "\n",
    "                x = int(bx - (bw / 2))\n",
    "                y = int(by - (bh / 2))\n",
    "                boxes.append([x, y, bw, bh])\n",
    "                confidences.append(float(confidence))\n",
    "                classIds.append(classId)\n",
    "    idx = cv2.dnn.NMSBoxes(boxes, confidences, 0.8, 0.8)\n",
    "    return [idx, confidences, classIds, boxes]\n",
    "            "
   ]
  },
  {
   "cell_type": "markdown",
   "id": "638ecd0f",
   "metadata": {},
   "source": [
    "### Draw box"
   ]
  },
  {
   "cell_type": "code",
   "execution_count": 60,
   "id": "ba39ea4f",
   "metadata": {},
   "outputs": [],
   "source": [
    "def drawBoxes(img, idx, confidences, classIds, boxes):\n",
    "    if not len(idx):\n",
    "        return img\n",
    "    for i in idx.flatten():\n",
    "        (x, y) = [boxes[i][0], boxes[i][1]]\n",
    "        (w, h) = [boxes[i][2], boxes[i][3]]\n",
    "        cv2.rectangle(img, (x, y), (x + w, y + h), (255, 210, 76), 2)\n",
    "        cv2.putText(img, \"{}: {:.3f}\".format(labels[classIds[i]], confidences[i]), (x, y - 5), cv2.FONT_HERSHEY_SIMPLEX, \\\n",
    "                   0.5, (255, 210, 76), 2)\n",
    "    return img"
   ]
  },
  {
   "cell_type": "markdown",
   "id": "8df92bda",
   "metadata": {},
   "source": [
    "### Detect objects"
   ]
  },
  {
   "cell_type": "code",
   "execution_count": 61,
   "id": "3de1c217",
   "metadata": {},
   "outputs": [],
   "source": [
    "def detectObjects(img):\n",
    "    img = cv2.cvtColor(img, cv2.COLOR_BGR2RGB)\n",
    "    (idx, confidences, classIds, boxes) = runInterference(img)\n",
    "    drawnImg = drawBoxes(np.copy(img), idx, confidences, classIds, boxes)\n",
    "    return cv2.cvtColor(drawnImg, cv2.COLOR_RGB2BGR)"
   ]
  },
  {
   "cell_type": "markdown",
   "id": "7ee75508",
   "metadata": {},
   "source": [
    "### Load test image"
   ]
  },
  {
   "cell_type": "code",
   "execution_count": 62,
   "id": "536d5598",
   "metadata": {
    "scrolled": true
   },
   "outputs": [],
   "source": [
    "image_path = os.path.join('test.jpg')\n",
    "img = cv2.imread(image_path)\n",
    "detect_img = detectObjects(img)\n",
    "cv2.imshow(\"image\", detect_img)\n",
    "cv2.waitKey(0)\n",
    "cv2.destroyAllWindows()"
   ]
  },
  {
   "cell_type": "markdown",
   "id": "404588de",
   "metadata": {},
   "source": [
    "### Write video"
   ]
  },
  {
   "cell_type": "code",
   "execution_count": 67,
   "id": "bbe21904",
   "metadata": {},
   "outputs": [],
   "source": [
    "def writeVideo(inVideoPath, outVideoPath):\n",
    "    inVideo = cv2.VideoCapture(inVideoPath)\n",
    "    fourcc = cv2.VideoWriter_fourcc(*'mp4v')\n",
    "    out = 0\n",
    "    length = int(inVideo.get(cv2.CAP_PROP_FRAME_COUNT))    \n",
    "    print(\"Number of frames: \", length)\n",
    "    curFrame = 0\n",
    "    while(True):\n",
    "        retVal, frame = inVideo.read()\n",
    "        if not retVal:\n",
    "            break\n",
    "        if not out:\n",
    "            out = cv2.VideoWriter(outVideoPath + '/outpy.avi',cv2.VideoWriter_fourcc('M','J','P','G'), 15.0, (frame.shape[1], frame.shape[0]))\n",
    "        img = detectObjects(frame)\n",
    "        out.write(img)\n",
    "        curFrame += 1\n",
    "        if (curFrame) % 10 == 0:\n",
    "            print(\"Current frame: \", curFrame)\n",
    "    print(\"Video saved successfully\")\n",
    "    inVideo.release()\n",
    "    out.release()\n",
    "    cv2.destroyAllWindows()"
   ]
  },
  {
   "cell_type": "markdown",
   "id": "ad2c0d64",
   "metadata": {},
   "source": [
    "### Display video"
   ]
  },
  {
   "cell_type": "code",
   "execution_count": 68,
   "id": "2573ec52",
   "metadata": {},
   "outputs": [],
   "source": [
    "def displayVideo(path):\n",
    "    video = cv2.VideoCapture(path)\n",
    "    while(True):\n",
    "        retVal, frame = video.read()\n",
    "        if(not retVal):\n",
    "            break\n",
    "        print(frame.shape[:2])\n",
    "        detect_img = detectObjects(frame)\n",
    "        cv2.imshow('detect', detect_img)\n",
    "#         cv2.imshow('raw', frame)\n",
    "        if(cv2.waitKey(30) == ord('q')):\n",
    "            break\n",
    "    \n",
    "    video.release()\n",
    "    cv2.destroyAllWindows()"
   ]
  },
  {
   "cell_type": "code",
   "execution_count": 69,
   "id": "15a763a0",
   "metadata": {},
   "outputs": [],
   "source": [
    "video_path = os.path.join('test_data', 'challenge_video.mp4')\n",
    "outVideo_path = os.path.join('./')\n"
   ]
  },
  {
   "cell_type": "code",
   "execution_count": 70,
   "id": "9666e950",
   "metadata": {},
   "outputs": [
    {
     "name": "stdout",
     "output_type": "stream",
     "text": [
      "Number of frames:  484\n",
      "Current frame:  10\n",
      "Current frame:  20\n",
      "Current frame:  30\n",
      "Current frame:  40\n",
      "Current frame:  50\n",
      "Current frame:  60\n",
      "Current frame:  70\n",
      "Current frame:  80\n",
      "Current frame:  90\n",
      "Current frame:  100\n",
      "Current frame:  110\n"
     ]
    },
    {
     "ename": "KeyboardInterrupt",
     "evalue": "",
     "output_type": "error",
     "traceback": [
      "\u001b[0;31m---------------------------------------------------------------------------\u001b[0m",
      "\u001b[0;31mKeyboardInterrupt\u001b[0m                         Traceback (most recent call last)",
      "Input \u001b[0;32mIn [70]\u001b[0m, in \u001b[0;36m<cell line: 1>\u001b[0;34m()\u001b[0m\n\u001b[0;32m----> 1\u001b[0m \u001b[43mwriteVideo\u001b[49m\u001b[43m(\u001b[49m\u001b[43mvideo_path\u001b[49m\u001b[43m,\u001b[49m\u001b[43m \u001b[49m\u001b[43moutVideo_path\u001b[49m\u001b[43m)\u001b[49m\n",
      "Input \u001b[0;32mIn [67]\u001b[0m, in \u001b[0;36mwriteVideo\u001b[0;34m(inVideoPath, outVideoPath)\u001b[0m\n\u001b[1;32m     12\u001b[0m \u001b[38;5;28;01mif\u001b[39;00m \u001b[38;5;129;01mnot\u001b[39;00m out:\n\u001b[1;32m     13\u001b[0m     out \u001b[38;5;241m=\u001b[39m cv2\u001b[38;5;241m.\u001b[39mVideoWriter(outVideoPath \u001b[38;5;241m+\u001b[39m \u001b[38;5;124m'\u001b[39m\u001b[38;5;124m/outpy.avi\u001b[39m\u001b[38;5;124m'\u001b[39m,cv2\u001b[38;5;241m.\u001b[39mVideoWriter_fourcc(\u001b[38;5;124m'\u001b[39m\u001b[38;5;124mM\u001b[39m\u001b[38;5;124m'\u001b[39m,\u001b[38;5;124m'\u001b[39m\u001b[38;5;124mJ\u001b[39m\u001b[38;5;124m'\u001b[39m,\u001b[38;5;124m'\u001b[39m\u001b[38;5;124mP\u001b[39m\u001b[38;5;124m'\u001b[39m,\u001b[38;5;124m'\u001b[39m\u001b[38;5;124mG\u001b[39m\u001b[38;5;124m'\u001b[39m), \u001b[38;5;241m15.0\u001b[39m, (frame\u001b[38;5;241m.\u001b[39mshape[\u001b[38;5;241m1\u001b[39m], frame\u001b[38;5;241m.\u001b[39mshape[\u001b[38;5;241m0\u001b[39m]))\n\u001b[0;32m---> 14\u001b[0m img \u001b[38;5;241m=\u001b[39m \u001b[43mdetectObjects\u001b[49m\u001b[43m(\u001b[49m\u001b[43mframe\u001b[49m\u001b[43m)\u001b[49m\n\u001b[1;32m     15\u001b[0m out\u001b[38;5;241m.\u001b[39mwrite(img)\n\u001b[1;32m     16\u001b[0m curFrame \u001b[38;5;241m+\u001b[39m\u001b[38;5;241m=\u001b[39m \u001b[38;5;241m1\u001b[39m\n",
      "Input \u001b[0;32mIn [61]\u001b[0m, in \u001b[0;36mdetectObjects\u001b[0;34m(img)\u001b[0m\n\u001b[1;32m      1\u001b[0m \u001b[38;5;28;01mdef\u001b[39;00m \u001b[38;5;21mdetectObjects\u001b[39m(img):\n\u001b[1;32m      2\u001b[0m     img \u001b[38;5;241m=\u001b[39m cv2\u001b[38;5;241m.\u001b[39mcvtColor(img, cv2\u001b[38;5;241m.\u001b[39mCOLOR_BGR2RGB)\n\u001b[0;32m----> 3\u001b[0m     (idx, confidences, classIds, boxes) \u001b[38;5;241m=\u001b[39m \u001b[43mrunInterference\u001b[49m\u001b[43m(\u001b[49m\u001b[43mimg\u001b[49m\u001b[43m)\u001b[49m\n\u001b[1;32m      4\u001b[0m     drawnImg \u001b[38;5;241m=\u001b[39m drawBoxes(np\u001b[38;5;241m.\u001b[39mcopy(img), idx, confidences, classIds, boxes)\n\u001b[1;32m      5\u001b[0m     \u001b[38;5;28;01mreturn\u001b[39;00m cv2\u001b[38;5;241m.\u001b[39mcvtColor(drawnImg, cv2\u001b[38;5;241m.\u001b[39mCOLOR_RGB2BGR)\n",
      "Input \u001b[0;32mIn [59]\u001b[0m, in \u001b[0;36mrunInterference\u001b[0;34m(img)\u001b[0m\n\u001b[1;32m      4\u001b[0m     net\u001b[38;5;241m.\u001b[39msetInput(blob)\n\u001b[1;32m      6\u001b[0m     start_t \u001b[38;5;241m=\u001b[39m time\u001b[38;5;241m.\u001b[39mtime()\n\u001b[0;32m----> 7\u001b[0m     layers_output \u001b[38;5;241m=\u001b[39m \u001b[43mnet\u001b[49m\u001b[38;5;241;43m.\u001b[39;49m\u001b[43mforward\u001b[49m\u001b[43m(\u001b[49m\u001b[43mlayer_names\u001b[49m\u001b[43m)\u001b[49m\n\u001b[1;32m      8\u001b[0m \u001b[38;5;66;03m#     print(\"Forward path throught yolov3 took: \", time.time() - start_t)\u001b[39;00m\n\u001b[1;32m      9\u001b[0m     boxes \u001b[38;5;241m=\u001b[39m []\n",
      "\u001b[0;31mKeyboardInterrupt\u001b[0m: "
     ]
    }
   ],
   "source": [
    "writeVideo(video_path, outVideo_path)"
   ]
  },
  {
   "cell_type": "code",
   "execution_count": null,
   "id": "7336b6e5",
   "metadata": {},
   "outputs": [],
   "source": []
  },
  {
   "cell_type": "code",
   "execution_count": null,
   "id": "cbc08413",
   "metadata": {},
   "outputs": [],
   "source": []
  }
 ],
 "metadata": {
  "kernelspec": {
   "display_name": "DSP",
   "language": "python",
   "name": "dsp"
  },
  "language_info": {
   "codemirror_mode": {
    "name": "ipython",
    "version": 3
   },
   "file_extension": ".py",
   "mimetype": "text/x-python",
   "name": "python",
   "nbconvert_exporter": "python",
   "pygments_lexer": "ipython3",
   "version": "3.10.2"
  }
 },
 "nbformat": 4,
 "nbformat_minor": 5
}
